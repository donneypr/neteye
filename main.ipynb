{
 "cells": [
  {
   "cell_type": "code",
   "execution_count": 3,
   "metadata": {},
   "outputs": [
    {
     "data": {
      "text/html": [
       "<div>\n",
       "<style scoped>\n",
       "    .dataframe tbody tr th:only-of-type {\n",
       "        vertical-align: middle;\n",
       "    }\n",
       "\n",
       "    .dataframe tbody tr th {\n",
       "        vertical-align: top;\n",
       "    }\n",
       "\n",
       "    .dataframe thead th {\n",
       "        text-align: right;\n",
       "    }\n",
       "</style>\n",
       "<table border=\"1\" class=\"dataframe\">\n",
       "  <thead>\n",
       "    <tr style=\"text-align: right;\">\n",
       "      <th></th>\n",
       "      <th>Time</th>\n",
       "      <th>Source</th>\n",
       "      <th>No.</th>\n",
       "      <th>Destination</th>\n",
       "      <th>Protocol</th>\n",
       "      <th>Length</th>\n",
       "      <th>Info</th>\n",
       "    </tr>\n",
       "  </thead>\n",
       "  <tbody>\n",
       "    <tr>\n",
       "      <th>0</th>\n",
       "      <td>0.000000</td>\n",
       "      <td>192.167.8.166</td>\n",
       "      <td>1</td>\n",
       "      <td>192.167.255.255</td>\n",
       "      <td>NBNS</td>\n",
       "      <td>92</td>\n",
       "      <td>Name query NB WPAD&lt;00&gt;</td>\n",
       "    </tr>\n",
       "    <tr>\n",
       "      <th>1</th>\n",
       "      <td>0.784682</td>\n",
       "      <td>192.167.8.166</td>\n",
       "      <td>2</td>\n",
       "      <td>192.167.255.255</td>\n",
       "      <td>NBNS</td>\n",
       "      <td>92</td>\n",
       "      <td>Name query NB WPAD&lt;00&gt;</td>\n",
       "    </tr>\n",
       "    <tr>\n",
       "      <th>2</th>\n",
       "      <td>1.169060</td>\n",
       "      <td>VMware_8a:5c:e6</td>\n",
       "      <td>3</td>\n",
       "      <td>Broadcast</td>\n",
       "      <td>ARP</td>\n",
       "      <td>60</td>\n",
       "      <td>Who has 192.167.7.175? Tell 192.167.0.1</td>\n",
       "    </tr>\n",
       "    <tr>\n",
       "      <th>3</th>\n",
       "      <td>2.167949</td>\n",
       "      <td>VMware_8a:5c:e6</td>\n",
       "      <td>4</td>\n",
       "      <td>Broadcast</td>\n",
       "      <td>ARP</td>\n",
       "      <td>60</td>\n",
       "      <td>Who has 192.167.7.175? Tell 192.167.0.1</td>\n",
       "    </tr>\n",
       "    <tr>\n",
       "      <th>4</th>\n",
       "      <td>3.170095</td>\n",
       "      <td>VMware_8a:5c:e6</td>\n",
       "      <td>5</td>\n",
       "      <td>Broadcast</td>\n",
       "      <td>ARP</td>\n",
       "      <td>60</td>\n",
       "      <td>Who has 192.167.7.175? Tell 192.167.0.1</td>\n",
       "    </tr>\n",
       "  </tbody>\n",
       "</table>\n",
       "</div>"
      ],
      "text/plain": [
       "       Time           Source  No.      Destination Protocol  Length  \\\n",
       "0  0.000000    192.167.8.166    1  192.167.255.255     NBNS      92   \n",
       "1  0.784682    192.167.8.166    2  192.167.255.255     NBNS      92   \n",
       "2  1.169060  VMware_8a:5c:e6    3        Broadcast      ARP      60   \n",
       "3  2.167949  VMware_8a:5c:e6    4        Broadcast      ARP      60   \n",
       "4  3.170095  VMware_8a:5c:e6    5        Broadcast      ARP      60   \n",
       "\n",
       "                                      Info  \n",
       "0                   Name query NB WPAD<00>  \n",
       "1                   Name query NB WPAD<00>  \n",
       "2  Who has 192.167.7.175? Tell 192.167.0.1  \n",
       "3  Who has 192.167.7.175? Tell 192.167.0.1  \n",
       "4  Who has 192.167.7.175? Tell 192.167.0.1  "
      ]
     },
     "execution_count": 3,
     "metadata": {},
     "output_type": "execute_result"
    }
   ],
   "source": [
    "\n",
    "import pandas as pd\n",
    "df = pd.read_csv('Midterm_53_group.csv')  \n",
    "df.head()\n"
   ]
  },
  {
   "cell_type": "code",
   "execution_count": null,
   "metadata": {},
   "outputs": [],
   "source": []
  },
  {
   "cell_type": "markdown",
   "metadata": {},
   "source": []
  },
  {
   "cell_type": "code",
   "execution_count": null,
   "metadata": {},
   "outputs": [],
   "source": []
  }
 ],
 "metadata": {
  "kernelspec": {
   "display_name": "Python 3",
   "language": "python",
   "name": "python3"
  },
  "language_info": {
   "codemirror_mode": {
    "name": "ipython",
    "version": 3
   },
   "file_extension": ".py",
   "mimetype": "text/x-python",
   "name": "python",
   "nbconvert_exporter": "python",
   "pygments_lexer": "ipython3",
   "version": "3.12.6"
  }
 },
 "nbformat": 4,
 "nbformat_minor": 2
}
